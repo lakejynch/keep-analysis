{
 "cells": [
  {
   "cell_type": "code",
   "execution_count": 1,
   "id": "2092c286",
   "metadata": {},
   "outputs": [],
   "source": [
    "import json, csv, datetime, pytz, math\n",
    "import pandas as pd, numpy as np\n",
    "import plotly.graph_objects as go\n",
    "import main as main"
   ]
  },
  {
   "cell_type": "code",
   "execution_count": 2,
   "id": "c238979f",
   "metadata": {},
   "outputs": [],
   "source": [
    "# import csv price data\n",
    "ohlc = {\n",
    "    \"btcusd\": pd.read_csv(r\"data/BTCUSD.csv\"),\n",
    "    \"ethusd\": pd.read_csv(r\"data/ETHUSD.csv\"),\n",
    "    \"ethbtc\": pd.read_csv(r\"data/ETHBTC.csv\")\n",
    "}\n",
    "\n",
    "# reformat datetime and set as index\n",
    "for key in ohlc.keys():\n",
    "    ohlc[key][\"timestamp\"] = ohlc[key][\"timestamp\"].astype(\"datetime64[ns, UTC]\")\n",
    "    ohlc[key].set_index(\"timestamp\", inplace = True)\n",
    "\n",
    "# init parameters for analysis\n",
    "inputs = {\n",
    "    \"init c-ratio\": 1.5,\n",
    "    \"courtesy call\": 1.1,\n",
    "    \"liquidation\": 1.01,\n",
    "    \"start date\": datetime.datetime(2020,1,1).replace(tzinfo=pytz.utc),\n",
    "    \"end date\": ohlc[\"btcusd\"].index.max()\n",
    "}\n",
    "\n",
    "inputs[\"date_rng\"] = pd.date_range(inputs[\"start date\"], inputs[\"end date\"])"
   ]
  },
  {
   "cell_type": "code",
   "execution_count": 3,
   "id": "b30cc51f",
   "metadata": {},
   "outputs": [],
   "source": [
    "# load compressed json and benchmarks\n",
    "with open(\"data/small_test.json\", \"r\") as jf:\n",
    "    test = json.load(jf)\n",
    "benchmarks = main.get_benchmarks(inputs)"
   ]
  },
  {
   "cell_type": "code",
   "execution_count": 4,
   "id": "25c86895",
   "metadata": {},
   "outputs": [
    {
     "data": {
      "text/html": [
       "<div>\n",
       "<style scoped>\n",
       "    .dataframe tbody tr th:only-of-type {\n",
       "        vertical-align: middle;\n",
       "    }\n",
       "\n",
       "    .dataframe tbody tr th {\n",
       "        vertical-align: top;\n",
       "    }\n",
       "\n",
       "    .dataframe thead th {\n",
       "        text-align: right;\n",
       "    }\n",
       "</style>\n",
       "<table border=\"1\" class=\"dataframe\">\n",
       "  <thead>\n",
       "    <tr style=\"text-align: right;\">\n",
       "      <th></th>\n",
       "      <th>Total Days</th>\n",
       "      <th>Days Below Courtesy Call</th>\n",
       "    </tr>\n",
       "  </thead>\n",
       "  <tbody>\n",
       "    <tr>\n",
       "      <th>count</th>\n",
       "      <td>646.000000</td>\n",
       "      <td>646.000000</td>\n",
       "    </tr>\n",
       "    <tr>\n",
       "      <th>mean</th>\n",
       "      <td>323.500000</td>\n",
       "      <td>0.863777</td>\n",
       "    </tr>\n",
       "    <tr>\n",
       "      <th>std</th>\n",
       "      <td>186.628419</td>\n",
       "      <td>3.693701</td>\n",
       "    </tr>\n",
       "    <tr>\n",
       "      <th>min</th>\n",
       "      <td>1.000000</td>\n",
       "      <td>0.000000</td>\n",
       "    </tr>\n",
       "    <tr>\n",
       "      <th>25%</th>\n",
       "      <td>162.250000</td>\n",
       "      <td>0.000000</td>\n",
       "    </tr>\n",
       "    <tr>\n",
       "      <th>50%</th>\n",
       "      <td>323.500000</td>\n",
       "      <td>0.000000</td>\n",
       "    </tr>\n",
       "    <tr>\n",
       "      <th>75%</th>\n",
       "      <td>484.750000</td>\n",
       "      <td>0.000000</td>\n",
       "    </tr>\n",
       "    <tr>\n",
       "      <th>max</th>\n",
       "      <td>646.000000</td>\n",
       "      <td>36.000000</td>\n",
       "    </tr>\n",
       "  </tbody>\n",
       "</table>\n",
       "</div>"
      ],
      "text/plain": [
       "       Total Days  Days Below Courtesy Call\n",
       "count  646.000000                646.000000\n",
       "mean   323.500000                  0.863777\n",
       "std    186.628419                  3.693701\n",
       "min      1.000000                  0.000000\n",
       "25%    162.250000                  0.000000\n",
       "50%    323.500000                  0.000000\n",
       "75%    484.750000                  0.000000\n",
       "max    646.000000                 36.000000"
      ]
     },
     "execution_count": 4,
     "metadata": {},
     "output_type": "execute_result"
    }
   ],
   "source": [
    "# summarize\n",
    "summary = main.summary(inputs, test)\n",
    "summary_df = pd.DataFrame.from_dict(summary, orient = \"columns\")\n",
    "summary_df.describe()"
   ]
  },
  {
   "cell_type": "code",
   "execution_count": 5,
   "id": "47546ef5",
   "metadata": {},
   "outputs": [
    {
     "name": "stdout",
     "output_type": "stream",
     "text": [
      "% of Positions Liquidated = 2.01%\n"
     ]
    }
   ],
   "source": [
    "liquidated = summary_df[\"Liquidated?\"].loc[summary_df[\"Liquidated?\"] == True].count()/summary_df[\"Liquidated?\"].count()\n",
    "print(\"% of Positions Liquidated = {}%\".format(round(liquidated*100,2)))"
   ]
  },
  {
   "cell_type": "code",
   "execution_count": 7,
   "id": "d21bb754",
   "metadata": {},
   "outputs": [],
   "source": [
    "# uncomment to plot figure live\n",
    "fig = go.Figure()\n",
    "\n",
    "for date, position in test.items():\n",
    "    fig.add_trace(\n",
    "        go.Scatter(\n",
    "            x = position[\"timestamp\"],\n",
    "            y = position[\"c-ratio\"],\n",
    "            mode = \"lines\"\n",
    "            #name = position[\"timestamp\"][0].format(\"%Y-%m-%d\")\n",
    "        ))\n",
    "    \n",
    "fig.add_trace(go.Scatter(x = inputs[\"date_rng\"], y = benchmarks[\"init c-ratio\"], line_color = \"green\", mode = \"lines\", name = \"init c-ratio\"))\n",
    "fig.add_trace(go.Scatter(x = inputs[\"date_rng\"], y = benchmarks[\"courtesy call\"], line_color = \"orange\", mode = \"lines\", name = \"courtesy call\"))\n",
    "fig.add_trace(go.Scatter(x = inputs[\"date_rng\"], y = benchmarks[\"liquidation\"], line_color = \"red\", mode = \"lines\", name = \"liquidation\"))\n",
    "fig.update_layout(\n",
    "    title = \"C-Ratio for Positions Started Each Day\",\n",
    "    yaxis_title = \"C-Ratio\"\n",
    ")\n",
    "fig.write_html(\"live_plot.html\")"
   ]
  },
  {
   "cell_type": "markdown",
   "id": "ab9a23a6",
   "metadata": {},
   "source": [
    "See html file in repo for interactive chart\n",
    "![Image](plot.png)"
   ]
  },
  {
   "cell_type": "code",
   "execution_count": null,
   "id": "0f7fc242",
   "metadata": {},
   "outputs": [],
   "source": []
  }
 ],
 "metadata": {
  "kernelspec": {
   "display_name": "Python 3",
   "language": "python",
   "name": "python3"
  },
  "language_info": {
   "codemirror_mode": {
    "name": "ipython",
    "version": 3
   },
   "file_extension": ".py",
   "mimetype": "text/x-python",
   "name": "python",
   "nbconvert_exporter": "python",
   "pygments_lexer": "ipython3",
   "version": "3.9.2"
  }
 },
 "nbformat": 4,
 "nbformat_minor": 5
}
